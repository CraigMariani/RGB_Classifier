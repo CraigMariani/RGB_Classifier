{
 "cells": [
  {
   "cell_type": "markdown",
   "metadata": {},
   "source": [
    "There is no color data set so we will create it"
   ]
  },
  {
   "cell_type": "code",
   "execution_count": 9,
   "metadata": {},
   "outputs": [],
   "source": [
    "import numpy as np\n",
    "import pandas as pd\n",
    "import matplotlib.pyplot as plt\n",
    "import matplotlib.patches as patches"
   ]
  },
  {
   "cell_type": "code",
   "execution_count": 2,
   "metadata": {},
   "outputs": [],
   "source": [
    "# basic_colors = pd.read_csv('BasicColors.csv')\n",
    "# basic_colors"
   ]
  },
  {
   "cell_type": "code",
   "execution_count": 3,
   "metadata": {},
   "outputs": [],
   "source": [
    "# def create_random_rgb():\n",
    "#     rgb = np.random.choice(basic_colors['RGB'].unique())\n",
    "#     rgb = rgb.split(',')\n",
    "    \n",
    "#     for index, color in enumerate(rgb):\n",
    "#         rgb[index] = int(color)\n",
    "        \n",
    "#     rgb = tuple(rgb)\n",
    "#     return rgb"
   ]
  },
  {
   "cell_type": "code",
   "execution_count": 4,
   "metadata": {},
   "outputs": [],
   "source": [
    "# color = create_random_rgb()\n",
    "# color"
   ]
  },
  {
   "cell_type": "code",
   "execution_count": 5,
   "metadata": {},
   "outputs": [],
   "source": [
    "#  def get_color_name(color):\n",
    "#     color_name = basic_colors[\n",
    "#         (basic_colors[rgbs[0]] == color[0]) &\n",
    "#         (basic_colors[rgbs[1]] == color[1]) & \n",
    "#         (basic_colors[rgbs[2]] == color[2])\n",
    "#     ]\n",
    "#     return color_name"
   ]
  },
  {
   "cell_type": "code",
   "execution_count": 6,
   "metadata": {},
   "outputs": [],
   "source": [
    "# color = create_random_rgb()\n",
    "# color_name = get_color_name(color)\n",
    "# color_name"
   ]
  },
  {
   "cell_type": "code",
   "execution_count": 7,
   "metadata": {},
   "outputs": [],
   "source": [
    "# size = np.arange(1000)\n",
    "# colors = pd.DataFrame()\n",
    "# for i in size:\n",
    "#     color = create_random_rgb()\n",
    "#     color_name = get_color_name(color)\n",
    "#     colors = colors.append(color_name)"
   ]
  },
  {
   "cell_type": "code",
   "execution_count": 8,
   "metadata": {},
   "outputs": [],
   "source": [
    "# colors"
   ]
  }
 ],
 "metadata": {
  "kernelspec": {
   "display_name": "Python 3",
   "language": "python",
   "name": "python3"
  },
  "language_info": {
   "codemirror_mode": {
    "name": "ipython",
    "version": 3
   },
   "file_extension": ".py",
   "mimetype": "text/x-python",
   "name": "python",
   "nbconvert_exporter": "python",
   "pygments_lexer": "ipython3",
   "version": "3.8.5"
  }
 },
 "nbformat": 4,
 "nbformat_minor": 4
}
